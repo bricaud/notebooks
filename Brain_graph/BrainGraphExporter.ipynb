{
 "metadata": {
  "name": ""
 },
 "nbformat": 3,
 "nbformat_minor": 0,
 "worksheets": [
  {
   "cells": [
    {
     "cell_type": "markdown",
     "metadata": {},
     "source": [
      "# Brain Graph Exporter\n",
      "\n",
      "## Importing the brain Graph data from Matlab to python and dump the result to a CSV file."
     ]
    },
    {
     "cell_type": "markdown",
     "metadata": {},
     "source": [
      "We first load the matlab mat file."
     ]
    },
    {
     "cell_type": "code",
     "collapsed": false,
     "input": [
      "import networkx as nx\n",
      "import scipy as sp\n",
      "import numpy as np\n",
      "\n",
      "D2 = sp.io.loadmat('PH0148_allscales_allnodes_with_labels.mat')\n",
      "D = sp.io.loadmat('PH0148_SC_FC.mat')"
     ],
     "language": "python",
     "metadata": {},
     "outputs": [],
     "prompt_number": 37
    },
    {
     "cell_type": "markdown",
     "metadata": {},
     "source": [
      "Now the mat file is stored in the dictionary $D$. Let us see what is inside $D$."
     ]
    },
    {
     "cell_type": "code",
     "collapsed": false,
     "input": [
      "print D.keys()"
     ],
     "language": "python",
     "metadata": {},
     "outputs": [
      {
       "output_type": "stream",
       "stream": "stdout",
       "text": [
        "['fiber_length', 'code', 'ts', '__header__', 'fiber_density', '__globals__', 'number_of_fibers', 'gn_index_83', '__version__']\n"
       ]
      }
     ],
     "prompt_number": 11
    },
    {
     "cell_type": "markdown",
     "metadata": {},
     "source": [
      "The entry 'fiber_density' is the adjacency matrix of the brain network (alternatively one can use 'number_of_fibers'). \n",
      "The entry 'ts' is the time series for all the nodes. \n",
      "The entry 'gn_index_83' gives the indices of the inner brain part which may be ignored. "
     ]
    },
    {
     "cell_type": "code",
     "collapsed": false,
     "input": [
      "D2.keys()"
     ],
     "language": "python",
     "metadata": {},
     "outputs": [
      {
       "metadata": {},
       "output_type": "pyout",
       "prompt_number": 7,
       "text": [
        "['SCw4',\n",
        " 'labels',\n",
        " '__header__',\n",
        " '__globals__',\n",
        " 'SCb1',\n",
        " 'SCb2',\n",
        " 'SCb3',\n",
        " 'SCb4',\n",
        " 'SCb5',\n",
        " 'SCw5',\n",
        " '__version__',\n",
        " 'SCw3',\n",
        " 'SCw2',\n",
        " 'SCw1']"
       ]
      }
     ],
     "prompt_number": 7
    },
    {
     "cell_type": "markdown",
     "metadata": {},
     "source": [
      "The entry 'labels' contains the labels of the nodes, for 83 regions but also for more regions (5 scales). "
     ]
    },
    {
     "cell_type": "code",
     "collapsed": false,
     "input": [
      "brainNet = D['fiber_density']\n",
      "brainLabels = D2['labels'][0][0] # node labels for the 83 regions\n",
      "fMRI = D['ts']"
     ],
     "language": "python",
     "metadata": {},
     "outputs": [],
     "prompt_number": 12
    },
    {
     "cell_type": "code",
     "collapsed": false,
     "input": [
      "brainLabels[0][1][0]"
     ],
     "language": "python",
     "metadata": {},
     "outputs": [
      {
       "metadata": {},
       "output_type": "pyout",
       "prompt_number": 38,
       "text": [
        "u'rh_parsorbitalis'"
       ]
      }
     ],
     "prompt_number": 38
    },
    {
     "cell_type": "markdown",
     "metadata": {},
     "source": [
      "We now use specific tools for graphs with networkx.\n",
      "We first build the graph $G$:"
     ]
    },
    {
     "cell_type": "code",
     "collapsed": false,
     "input": [
      "G1 = nx.from_numpy_matrix(brainNet)"
     ],
     "language": "python",
     "metadata": {},
     "outputs": [],
     "prompt_number": 19
    },
    {
     "cell_type": "markdown",
     "metadata": {},
     "source": [
      "Rearanging the names to be recorded inside the graph and sorting left/right hemisphere regions:"
     ]
    },
    {
     "cell_type": "code",
     "collapsed": false,
     "input": [
      "brain1Labs = {}\n",
      "shortLabels = {}\n",
      "brainSide = {}\n",
      "\n",
      "for i in xrange(len(brainNet)):\n",
      "    brain1Labs[i] = brainLabels[0][i][0]\n",
      "    if brain1Labs[i][0:2] == 'lh':\n",
      "        brainSide[i] = 'left'\n",
      "        shortLabels[i] = brain1Labs[i][3:] #copy but shorten the name\n",
      "    elif brain1Labs[i][0:2] == 'rh':\n",
      "        brainSide[i] = 'right'\n",
      "        shortLabels[i] = brain1Labs[i][3:]\n",
      "    else:\n",
      "        brainSide[i] = ''\n",
      "        shortLabels[i] = brain1Labs[i]\n",
      "        "
     ],
     "language": "python",
     "metadata": {},
     "outputs": [],
     "prompt_number": 21
    },
    {
     "cell_type": "markdown",
     "metadata": {},
     "source": [
      "Add attributes to the nodes: the degree, the label and group (left or right)."
     ]
    },
    {
     "cell_type": "code",
     "collapsed": false,
     "input": [
      "deg = nx.degree(G1)\n",
      "nx.set_node_attributes(G1, 'degree', deg)\n",
      "nx.set_node_attributes(G1, 'name', shortLabels)\n",
      "nx.set_node_attributes(G1, 'brain side', brainSide)"
     ],
     "language": "python",
     "metadata": {},
     "outputs": [],
     "prompt_number": 23
    },
    {
     "cell_type": "markdown",
     "metadata": {},
     "source": [
      "### Exporting brain graph data"
     ]
    },
    {
     "cell_type": "code",
     "collapsed": false,
     "input": [
      "import csv\n",
      "import json\n",
      "from networkx.readwrite import json_graph"
     ],
     "language": "python",
     "metadata": {},
     "outputs": [],
     "prompt_number": 24
    },
    {
     "cell_type": "markdown",
     "metadata": {},
     "source": [
      "Save the graph with its nodes, edges and attributes inside a json file:"
     ]
    },
    {
     "cell_type": "code",
     "collapsed": false,
     "input": [
      "d = ','\n",
      "name = 'brainPH0148'\n",
      "fullname = name + '.json'\n",
      "# write json formatted data\n",
      "nodeData = json_graph.node_link_data(G1) # node-link format to serialize\n",
      "with open(fullname, 'w') as f:\n",
      "    json.dump(nodeData, f)\n",
      "print('Wrote file: ' + fullname)  "
     ],
     "language": "python",
     "metadata": {},
     "outputs": [
      {
       "output_type": "stream",
       "stream": "stdout",
       "text": [
        "Wrote file: brainPH0148.json\n"
       ]
      }
     ],
     "prompt_number": 52
    },
    {
     "cell_type": "markdown",
     "metadata": {},
     "source": [
      "Saving in 2 CSV files: one for the nodes and one for the edges."
     ]
    },
    {
     "cell_type": "code",
     "collapsed": false,
     "input": [
      "# Nodes\n",
      "fullname = name + '.nodes.csv'\n",
      "with open(fullname, 'w') as f:\n",
      "    writer = csv.writer(f, delimiter=d)\n",
      "    header = ['#id', 'name', 'brain side', 'time series']\n",
      "    writer.writerow(header)\n",
      "    for k in xrange(len(shortLabels)):\n",
      "        # Write the time-series data without the '[ ]' and spaces\n",
      "        row = [k, shortLabels[k], brainSide[k], d.join(map(repr, fMRI[k]))]\n",
      "        writer.writerow(row)\n",
      "print('Wrote file: ' + fullname)        "
     ],
     "language": "python",
     "metadata": {},
     "outputs": [
      {
       "output_type": "stream",
       "stream": "stdout",
       "text": [
        "Wrote file: brainPH0148.nodes.csv\n"
       ]
      }
     ],
     "prompt_number": 53
    },
    {
     "cell_type": "code",
     "collapsed": false,
     "input": [
      "# Edges\n",
      "# Write networkx edge list\n",
      "fullname = name + '.edges.csv'\n",
      "with open(fullname, 'w') as f:\n",
      "    writer = csv.writer(f, delimiter=d)\n",
      "    header = ['#source', 'target', 'weight']\n",
      "    writer.writerow(header)\n",
      "    nx.write_edgelist(G1, f, delimiter=d, data=['weight'])\n",
      "print('Wrote file: ' + fullname)  "
     ],
     "language": "python",
     "metadata": {},
     "outputs": [
      {
       "output_type": "stream",
       "stream": "stdout",
       "text": [
        "Wrote file: brainPH0148.edges.csv\n"
       ]
      }
     ],
     "prompt_number": 54
    }
   ],
   "metadata": {}
  }
 ]
}