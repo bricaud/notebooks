{
 "metadata": {
  "name": ""
 },
 "nbformat": 3,
 "nbformat_minor": 0,
 "worksheets": [
  {
   "cells": [
    {
     "cell_type": "markdown",
     "metadata": {},
     "source": [
      "The idea is to decompose a graph into meaningful multiscale components that we can analyze. We would like the decomposition to be informative and robust and of course {\\bf invertible}. We shall be using a multi scale partitioning of the spectral domain of the Laplacian inspired by spectral graph wavelets. In matrix form, we can write a filter operator as~:\n",
      "$$\n",
      "g(\\mathcal{L}) = \\mathbf{U}^t \\mathbf{D} \\mathbf{U},\n",
      "$$\n",
      "where the orthogonal matrix $\\mathbf{U}$ is the matrix of eigenvectors of $\\mathcal{L}$ and the diagonal matrix $\\mathbf{D}$ is the graph Fourier transform, or spectral, representation of the filter. \n",
      "\n",
      "Let us choose a set of filters $g_s$, $s\\in [1,...,K]$ designed such that\n",
      "$$\n",
      "\\sum_s g_s(\\lambda_\\ell)^2 = \\lambda_\\ell. \n",
      "$$\n",
      "This can be achieved by imposing that this condition holds for all $t \\in [0,\\lambda_\\textrm{max}]$ for instance. Let $\\mathbf{D}_s$ be the corresponding matrices. Now observe the following trivial implications~:"
     ]
    },
    {
     "cell_type": "markdown",
     "metadata": {},
     "source": [
      "$$\n",
      "\\begin{eqnarray}\n",
      "\\sum_s g_s(\\mathcal{L})^* g_s(\\mathcal{L}) \n",
      "& = & \\sum_s  \\bigl(\\mathbf{U}^t \\mathbf{D}_s \\mathbf{U}\\bigr)^*  \\bigl(\\mathbf{U}^t \\mathbf{D}_s \\mathbf{U}\\bigr) \\nonumber \\\\\n",
      "& = & \\sum_s  \\mathbf{U}^t \\mathbf{D}^2_s \\mathbf{U} \\\\\n",
      "& = & \\mathcal{L}. \\nonumber\n",
      "\\end{eqnarray}\n",
      "$$\n",
      "\n",
      "In this form we obtain a multi resolution decomposition of the graph itself into components $g_s(\\mathcal{L})$ that can be summed up to reconstruct the graph via its Laplacian.  Note as well that each term $\\mathcal{L}_s = \\mathbf{U}^t \\mathbf{D}^2_s \\mathbf{U}$ is a symmetric semi-positive definite matrix. \n",
      "\n",
      "$$\n",
      "\\|T_n g\\|_2 = \\|g(\\mathcal{L}) \\delta_n\\|_2\n",
      "$$\n",
      "\n",
      "Now we would like to see that a decomposition of the form \\eqref{eq:decomp} is a decomposition into Laplacian matrices. \n",
      "\n",
      "Let $\\mathbf{U}$ be the eigenvectors matrix of the Laplacian of a weighted connected graph and let $\\mathbf{D}$ be a diagonal matrix with positive entries such that $\\mathbf{D}[1,1]=0$. Then the matrix $\\mathbf{L} = \\mathbf{U}^t \\mathbf{D} \\mathbf{U}$ is symmetric positive semi-definite. Moreover we $\\mathbf{L}$ also satisfies the following conditions~: $\\mathbf{L}[i,i] > 0$ and $\\sum_i \\mathbf{L}[i,j] = 0$, $\\forall i \\neq j$. \n",
      "\n",
      "PSD is obvious from the very definition of $\\mathbf{L}$. We first explicitly write~:\n",
      "$$\n",
      "\\mathbf{L}[i,j] = \\sum_\\ell \\mathbf{D}[\\ell,\\ell] \\mathbf{U}[i,\\ell] \\mathbf{U}[j,\\ell]\n",
      "$$\n",
      "Therefore \n",
      "$$\n",
      "\\mathbf{L}[i,i] = \\sum_\\ell \\mathbf{D}[\\ell,\\ell] \\mathbf{U}[i,\\ell]^2\n",
      "$$\n",
      "is strictly positive. We can explicitly compute the row-sum~:\n",
      "\\begin{eqnarray*}\n",
      "\\sum_i \\mathbf{L}[i,j] & = & \\sum_i  \\sum_\\ell \\mathbf{D}[\\ell,\\ell] \\mathbf{U}[i,\\ell] \\mathbf{U}[j,\\ell] \\\\\n",
      "& = & \\sum_\\ell \\mathbf{D}[\\ell,\\ell] \\mathbf{U}[j,\\ell] \\sum_i \\mathbf{U}[i,\\ell] \\\\\n",
      "& = & \\sum_\\ell \\mathbf{D}[\\ell,\\ell] \\mathbf{U}[j,\\ell] \\langle u_\\ell, 1 \\rangle \\\\\n",
      "& = & \\sum_\\ell \\mathbf{D}[\\ell,\\ell] \\mathbf{U}[j,\\ell] \\delta[\\ell,1] \\\\\n",
      "& = & \\mathbf{D}[1,1] \\mathbf{U}[j,1] \\\\\n",
      "& = & 0.\n",
      "\\end{eqnarray*}\n",
      "\n",
      "\n",
      "This theorem immediately implies that $ \\mathbf{L}$ can be put in Laplacian form, i.e $ \\mathbf{L} = \\mathcal{D} - \\mathcal{A}$ where $\\mathcal{D}$ is diagonal, with strictly positive entries, and $\\mathcal{D}[i,i] = -\\sum_j \\mathcal{A}[i,j]$."
     ]
    },
    {
     "cell_type": "code",
     "collapsed": false,
     "input": [],
     "language": "python",
     "metadata": {},
     "outputs": []
    }
   ],
   "metadata": {}
  }
 ]
}