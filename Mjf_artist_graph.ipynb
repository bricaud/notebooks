{
 "metadata": {
  "name": ""
 },
 "nbformat": 3,
 "nbformat_minor": 0,
 "worksheets": [
  {
   "cells": [
    {
     "cell_type": "markdown",
     "metadata": {},
     "source": [
      "# Montreux Jazz Festival artist graph"
     ]
    },
    {
     "cell_type": "markdown",
     "metadata": {},
     "source": [
      "## Goal\n",
      "Based on the MJF similarity song graph, we want to create a graph of artists connected by similarity. It is interesting to have a cartography of the artist panel and how they connect between each other.\n",
      "\n",
      "**Researcher: Kirell Benzi**"
     ]
    },
    {
     "cell_type": "markdown",
     "metadata": {},
     "source": [
      "### Workflow\n",
      "\n",
      "- Load the graph\n",
      "- Normalize song distances (edge weights)\n",
      "- Compute song attraction form the normalized song distances\n",
      "- Extract and create artist nodes\n",
      "- Link artists depending whether a song from artist A is connected to a song of artist B\n",
      "- Compute the edge_weight between artists (more details on this part later on)\n",
      "- Sanitize dataset\n",
      "- Export graph\n",
      "- Open in gephi, run spatial layout algorithm\n",
      "- Export modified graphs with graphic properties such as:\n",
      "    - coordinates\n",
      "    - colors\n",
      "    - shape\n",
      "    - size of nodes\n",
      "    - edge color, etc.\n",
      "\n",
      "- Optionnal:\n",
      "    - Get images for artist and embedded image in each artist node\n"
     ]
    },
    {
     "cell_type": "markdown",
     "metadata": {},
     "source": [
      "### Original song distance to song attraction\n",
      "\n",
      "In the mjf graph, the edge weight is the distance from one node to another. In our artist graph, it would be nice to represent similarity between 2 artists. To ease the process of creation of artist weights, we will transform distances into a measure of attraction.\n",
      "\n",
      "Define $\\mathbf{X}$ as the original edge weight, we have:\n",
      "\n",
      "$$\n",
      "\\begin{equation}\n",
      "d = max(\\mathbf{X}) - min(\\mathbf{X}) \\\\ \\\\\n",
      "\\mathbf{Y} = \\exp-(\\frac{\\mathbf{X}}{d} - min(\\frac{\\mathbf{X}}{d}))\n",
      "\\end{equation}\n",
      "$$"
     ]
    },
    {
     "cell_type": "code",
     "collapsed": false,
     "input": [
      "%pylab"
     ],
     "language": "python",
     "metadata": {},
     "outputs": [
      {
       "output_type": "stream",
       "stream": "stdout",
       "text": [
        "Using matplotlib backend: MacOSX\n",
        "Populating the interactive namespace from numpy and matplotlib\n"
       ]
      }
     ],
     "prompt_number": 18
    },
    {
     "cell_type": "code",
     "collapsed": false,
     "input": [
      "import numpy as np\n",
      "import networkx as nx"
     ],
     "language": "python",
     "metadata": {},
     "outputs": [],
     "prompt_number": 19
    },
    {
     "cell_type": "code",
     "collapsed": false,
     "input": [],
     "language": "python",
     "metadata": {},
     "outputs": []
    }
   ],
   "metadata": {}
  }
 ]
}